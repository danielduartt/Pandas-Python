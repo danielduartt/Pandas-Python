{
  "nbformat": 4,
  "nbformat_minor": 0,
  "metadata": {
    "colab": {
      "provenance": [],
      "authorship_tag": "ABX9TyMVWmUSaNADZ8HxlVGHTAje",
      "include_colab_link": true
    },
    "kernelspec": {
      "name": "python3",
      "display_name": "Python 3"
    },
    "language_info": {
      "name": "python"
    }
  },
  "cells": [
    {
      "cell_type": "markdown",
      "metadata": {
        "id": "view-in-github",
        "colab_type": "text"
      },
      "source": [
        "<a href=\"https://colab.research.google.com/github/danielduartt/Pandas-Python/blob/main/Fixacao_Series.ipynb\" target=\"_parent\"><img src=\"https://colab.research.google.com/assets/colab-badge.svg\" alt=\"Open In Colab\"/></a>"
      ]
    },
    {
      "cell_type": "code",
      "execution_count": 1,
      "metadata": {
        "id": "-h6xEVuPl5S4"
      },
      "outputs": [],
      "source": [
        "import pandas as pd\n",
        "import numpy as np"
      ]
    },
    {
      "cell_type": "markdown",
      "source": [
        "##**Exercícios:**\n",
        "\n",
        "- Crie uma série chamada \"temperaturas\" com os valores [25.5, 26.2, 23.8, 22.5, 24.9].\n",
        "- Mostre o valor máximo da série \"temperaturas\".\n",
        "- Calcule a média das temperaturas.\n",
        "- Crie uma série chamada \"cidades\" com os índices ['SP', 'RJ', 'BH', 'DF', 'POA'] e valores ['São Paulo', 'Rio de Janeiro', 'Belo Horizonte', 'Distrito Federal', 'Porto Alegre'].\n",
        "- Exiba as cidades que têm temperaturas acima de 25 graus.\n",
        "- Crie uma nova série chamada \"temperaturas_fahrenheit\" convertendo os valores da série \"temperaturas\" de graus Celsius para Fahrenheit (F = C * 9/5 + 32).\n",
        "- Renomeie a série \"temperaturas\" para \"temp_series\".\n",
        "- Crie uma série chamada \"populacao\" com os índices das mesmas cidades e valores de população correspondentes.\n",
        "- Adicione a série \"populacao\" à série \"cidades\" criando um DataFrame chamado \"dados_cidades\".\n",
        "- Exiba o DataFrame \"dados_cidades\" com as informações das cidades e suas populações."
      ],
      "metadata": {
        "id": "CVncyfWdmMMx"
      }
    },
    {
      "cell_type": "markdown",
      "source": [
        "1. Crie uma série chamada \"temperaturas\" com os valores [25.5, 26.2, 23.8, 22.5, 24.9]."
      ],
      "metadata": {
        "id": "S5LVFxRzmgmc"
      }
    },
    {
      "cell_type": "code",
      "source": [
        "temperaturas = pd.Series([25.5, 26.2, 23.8, 22.5, 24.9])"
      ],
      "metadata": {
        "id": "nA5bPtlnmisf"
      },
      "execution_count": 2,
      "outputs": []
    },
    {
      "cell_type": "markdown",
      "source": [
        "2. Mostre o valor máximo da série \"temperaturas\"."
      ],
      "metadata": {
        "id": "lL_CxrFamrDx"
      }
    },
    {
      "cell_type": "code",
      "source": [
        "print(f\"Valor máximo: {temperaturas.max()}\")"
      ],
      "metadata": {
        "colab": {
          "base_uri": "https://localhost:8080/"
        },
        "id": "3HTNElpEmuDY",
        "outputId": "1bddc2a7-aad3-45f0-840c-cc089e114d34"
      },
      "execution_count": 3,
      "outputs": [
        {
          "output_type": "stream",
          "name": "stdout",
          "text": [
            "Valor máximo: 26.2\n"
          ]
        }
      ]
    },
    {
      "cell_type": "markdown",
      "source": [
        "3. Calcule a média das temperaturas."
      ],
      "metadata": {
        "id": "JoRMz4H7my6u"
      }
    },
    {
      "cell_type": "code",
      "source": [
        "print(f\"Média: {temperaturas.mean():.2f}\")"
      ],
      "metadata": {
        "colab": {
          "base_uri": "https://localhost:8080/"
        },
        "id": "kMc4xmZ0m9BJ",
        "outputId": "bfbe3222-b804-4aee-d621-d190027575ff"
      },
      "execution_count": 5,
      "outputs": [
        {
          "output_type": "stream",
          "name": "stdout",
          "text": [
            "Média: 24.58\n"
          ]
        }
      ]
    },
    {
      "cell_type": "markdown",
      "source": [
        "4. Crie uma série chamada \"cidades\" com os índices ['SP', 'RJ', 'BH', 'DF', 'POA'] e valores ['São Paulo', 'Rio de Janeiro', 'Belo Horizonte', 'Distrito Federal', 'Porto Alegre']."
      ],
      "metadata": {
        "id": "oeioj9uJnDp2"
      }
    },
    {
      "cell_type": "code",
      "source": [
        "cidades = pd.Series(['São Paulo', 'Rio de Janeiro', 'Belo Horizonte', 'Distrito Federal', 'Porto Alegre'], index = \"SP RJ BH DF POA\".split())\n"
      ],
      "metadata": {
        "id": "H1KAnwg5nNuv"
      },
      "execution_count": 6,
      "outputs": []
    },
    {
      "cell_type": "markdown",
      "source": [
        "5. Exiba as cidades que têm temperaturas acima de 25 graus."
      ],
      "metadata": {
        "id": "8-iVRtnpnd_W"
      }
    },
    {
      "cell_type": "code",
      "source": [
        "valores = temperaturas[ temperaturas > 25].index\n",
        "print(cidades[valores])"
      ],
      "metadata": {
        "colab": {
          "base_uri": "https://localhost:8080/"
        },
        "id": "-m4zAHEbnglM",
        "outputId": "00fb47dc-4aa4-41a2-945c-38d18bfaeb23"
      },
      "execution_count": 12,
      "outputs": [
        {
          "output_type": "stream",
          "name": "stdout",
          "text": [
            "SP         São Paulo\n",
            "RJ    Rio de Janeiro\n",
            "dtype: object\n"
          ]
        }
      ]
    },
    {
      "cell_type": "markdown",
      "source": [
        "6. Crie uma nova série chamada \"temperaturas_fahrenheit\" convertendo os valores da série \"temperaturas\" de graus Celsius para Fahrenheit (F = C * 9/5 + 32)."
      ],
      "metadata": {
        "id": "rEkY9puyoS0x"
      }
    },
    {
      "cell_type": "code",
      "source": [
        "temperaturas_fahrenheit = temperaturas[:] * 9/5 + 32\n",
        "print(temperaturas_fahrenheit)"
      ],
      "metadata": {
        "colab": {
          "base_uri": "https://localhost:8080/"
        },
        "id": "zK6AHjJZoXtB",
        "outputId": "d1e1c9ce-0841-4c7d-fa5a-167426379599"
      },
      "execution_count": 14,
      "outputs": [
        {
          "output_type": "stream",
          "name": "stdout",
          "text": [
            "0    77.90\n",
            "1    79.16\n",
            "2    74.84\n",
            "3    72.50\n",
            "4    76.82\n",
            "dtype: float64\n"
          ]
        }
      ]
    },
    {
      "cell_type": "markdown",
      "source": [
        "7. Renomeie a série \"temperaturas\" para \"temp_series\"."
      ],
      "metadata": {
        "id": "yoBsxjx-ox-g"
      }
    },
    {
      "cell_type": "code",
      "source": [
        "temperaturas.rename('temp_series', inplace = True)\n",
        "print(temperaturas)"
      ],
      "metadata": {
        "colab": {
          "base_uri": "https://localhost:8080/"
        },
        "id": "Q35r5yzyo2e8",
        "outputId": "3f38239e-45c6-4356-d1cf-7e707fd109b7"
      },
      "execution_count": 16,
      "outputs": [
        {
          "output_type": "stream",
          "name": "stdout",
          "text": [
            "0    25.5\n",
            "1    26.2\n",
            "2    23.8\n",
            "3    22.5\n",
            "4    24.9\n",
            "Name: temp_series, dtype: float64\n"
          ]
        }
      ]
    },
    {
      "cell_type": "markdown",
      "source": [
        "8. Crie uma série chamada \"populacao\" com os índices das mesmas cidades e valores de população correspondentes."
      ],
      "metadata": {
        "id": "m5FZSb5LpJVz"
      }
    },
    {
      "cell_type": "code",
      "source": [
        "populacao = pd.Series([12176866, 6718903, 2521564, 3015268, 1488252], index = \"SP RJ BH DF POA\".split())"
      ],
      "metadata": {
        "id": "zFVKVzOjpLwW"
      },
      "execution_count": 17,
      "outputs": []
    },
    {
      "cell_type": "markdown",
      "source": [
        "9. Adicione a série \"populacao\" à série \"cidades\" criando um DataFrame chamado \"dados_cidades\"."
      ],
      "metadata": {
        "id": "a196SGW2pcv6"
      }
    },
    {
      "cell_type": "code",
      "source": [
        "dados_ds = {\"Cidades\": cidades, \"População\": populacao}\n",
        "dados_cidades = pd.DataFrame(dados_ds)\n"
      ],
      "metadata": {
        "id": "xg__EEyHpfVK"
      },
      "execution_count": 26,
      "outputs": []
    },
    {
      "cell_type": "markdown",
      "source": [
        "10. Exiba o DataFrame \"dados_cidades\" com as informações das cidades e suas populações."
      ],
      "metadata": {
        "id": "WcDfrnacqiyp"
      }
    },
    {
      "cell_type": "code",
      "source": [
        "display(dados_cidades)"
      ],
      "metadata": {
        "colab": {
          "base_uri": "https://localhost:8080/",
          "height": 206
        },
        "id": "brReijItqnuS",
        "outputId": "c993ad0f-b489-4255-ba1f-67f3432c6f1c"
      },
      "execution_count": 27,
      "outputs": [
        {
          "output_type": "display_data",
          "data": {
            "text/plain": [
              "              Cidades  População\n",
              "SP          São Paulo   12176866\n",
              "RJ     Rio de Janeiro    6718903\n",
              "BH     Belo Horizonte    2521564\n",
              "DF   Distrito Federal    3015268\n",
              "POA      Porto Alegre    1488252"
            ],
            "text/html": [
              "\n",
              "\n",
              "  <div id=\"df-a82462d1-cb18-4fc2-a182-e133410d7800\">\n",
              "    <div class=\"colab-df-container\">\n",
              "      <div>\n",
              "<style scoped>\n",
              "    .dataframe tbody tr th:only-of-type {\n",
              "        vertical-align: middle;\n",
              "    }\n",
              "\n",
              "    .dataframe tbody tr th {\n",
              "        vertical-align: top;\n",
              "    }\n",
              "\n",
              "    .dataframe thead th {\n",
              "        text-align: right;\n",
              "    }\n",
              "</style>\n",
              "<table border=\"1\" class=\"dataframe\">\n",
              "  <thead>\n",
              "    <tr style=\"text-align: right;\">\n",
              "      <th></th>\n",
              "      <th>Cidades</th>\n",
              "      <th>População</th>\n",
              "    </tr>\n",
              "  </thead>\n",
              "  <tbody>\n",
              "    <tr>\n",
              "      <th>SP</th>\n",
              "      <td>São Paulo</td>\n",
              "      <td>12176866</td>\n",
              "    </tr>\n",
              "    <tr>\n",
              "      <th>RJ</th>\n",
              "      <td>Rio de Janeiro</td>\n",
              "      <td>6718903</td>\n",
              "    </tr>\n",
              "    <tr>\n",
              "      <th>BH</th>\n",
              "      <td>Belo Horizonte</td>\n",
              "      <td>2521564</td>\n",
              "    </tr>\n",
              "    <tr>\n",
              "      <th>DF</th>\n",
              "      <td>Distrito Federal</td>\n",
              "      <td>3015268</td>\n",
              "    </tr>\n",
              "    <tr>\n",
              "      <th>POA</th>\n",
              "      <td>Porto Alegre</td>\n",
              "      <td>1488252</td>\n",
              "    </tr>\n",
              "  </tbody>\n",
              "</table>\n",
              "</div>\n",
              "      <button class=\"colab-df-convert\" onclick=\"convertToInteractive('df-a82462d1-cb18-4fc2-a182-e133410d7800')\"\n",
              "              title=\"Convert this dataframe to an interactive table.\"\n",
              "              style=\"display:none;\">\n",
              "\n",
              "  <svg xmlns=\"http://www.w3.org/2000/svg\" height=\"24px\"viewBox=\"0 0 24 24\"\n",
              "       width=\"24px\">\n",
              "    <path d=\"M0 0h24v24H0V0z\" fill=\"none\"/>\n",
              "    <path d=\"M18.56 5.44l.94 2.06.94-2.06 2.06-.94-2.06-.94-.94-2.06-.94 2.06-2.06.94zm-11 1L8.5 8.5l.94-2.06 2.06-.94-2.06-.94L8.5 2.5l-.94 2.06-2.06.94zm10 10l.94 2.06.94-2.06 2.06-.94-2.06-.94-.94-2.06-.94 2.06-2.06.94z\"/><path d=\"M17.41 7.96l-1.37-1.37c-.4-.4-.92-.59-1.43-.59-.52 0-1.04.2-1.43.59L10.3 9.45l-7.72 7.72c-.78.78-.78 2.05 0 2.83L4 21.41c.39.39.9.59 1.41.59.51 0 1.02-.2 1.41-.59l7.78-7.78 2.81-2.81c.8-.78.8-2.07 0-2.86zM5.41 20L4 18.59l7.72-7.72 1.47 1.35L5.41 20z\"/>\n",
              "  </svg>\n",
              "      </button>\n",
              "\n",
              "\n",
              "\n",
              "    <div id=\"df-f69f1d35-5b5b-4dca-9c45-d61863cdc255\">\n",
              "      <button class=\"colab-df-quickchart\" onclick=\"quickchart('df-f69f1d35-5b5b-4dca-9c45-d61863cdc255')\"\n",
              "              title=\"Suggest charts.\"\n",
              "              style=\"display:none;\">\n",
              "\n",
              "<svg xmlns=\"http://www.w3.org/2000/svg\" height=\"24px\"viewBox=\"0 0 24 24\"\n",
              "     width=\"24px\">\n",
              "    <g>\n",
              "        <path d=\"M19 3H5c-1.1 0-2 .9-2 2v14c0 1.1.9 2 2 2h14c1.1 0 2-.9 2-2V5c0-1.1-.9-2-2-2zM9 17H7v-7h2v7zm4 0h-2V7h2v10zm4 0h-2v-4h2v4z\"/>\n",
              "    </g>\n",
              "</svg>\n",
              "      </button>\n",
              "    </div>\n",
              "\n",
              "<style>\n",
              "  .colab-df-quickchart {\n",
              "    background-color: #E8F0FE;\n",
              "    border: none;\n",
              "    border-radius: 50%;\n",
              "    cursor: pointer;\n",
              "    display: none;\n",
              "    fill: #1967D2;\n",
              "    height: 32px;\n",
              "    padding: 0 0 0 0;\n",
              "    width: 32px;\n",
              "  }\n",
              "\n",
              "  .colab-df-quickchart:hover {\n",
              "    background-color: #E2EBFA;\n",
              "    box-shadow: 0px 1px 2px rgba(60, 64, 67, 0.3), 0px 1px 3px 1px rgba(60, 64, 67, 0.15);\n",
              "    fill: #174EA6;\n",
              "  }\n",
              "\n",
              "  [theme=dark] .colab-df-quickchart {\n",
              "    background-color: #3B4455;\n",
              "    fill: #D2E3FC;\n",
              "  }\n",
              "\n",
              "  [theme=dark] .colab-df-quickchart:hover {\n",
              "    background-color: #434B5C;\n",
              "    box-shadow: 0px 1px 3px 1px rgba(0, 0, 0, 0.15);\n",
              "    filter: drop-shadow(0px 1px 2px rgba(0, 0, 0, 0.3));\n",
              "    fill: #FFFFFF;\n",
              "  }\n",
              "</style>\n",
              "\n",
              "    <script>\n",
              "      async function quickchart(key) {\n",
              "        const containerElement = document.querySelector('#' + key);\n",
              "        const charts = await google.colab.kernel.invokeFunction(\n",
              "            'suggestCharts', [key], {});\n",
              "      }\n",
              "    </script>\n",
              "\n",
              "      <script>\n",
              "\n",
              "function displayQuickchartButton(domScope) {\n",
              "  let quickchartButtonEl =\n",
              "    domScope.querySelector('#df-f69f1d35-5b5b-4dca-9c45-d61863cdc255 button.colab-df-quickchart');\n",
              "  quickchartButtonEl.style.display =\n",
              "    google.colab.kernel.accessAllowed ? 'block' : 'none';\n",
              "}\n",
              "\n",
              "        displayQuickchartButton(document);\n",
              "      </script>\n",
              "      <style>\n",
              "    .colab-df-container {\n",
              "      display:flex;\n",
              "      flex-wrap:wrap;\n",
              "      gap: 12px;\n",
              "    }\n",
              "\n",
              "    .colab-df-convert {\n",
              "      background-color: #E8F0FE;\n",
              "      border: none;\n",
              "      border-radius: 50%;\n",
              "      cursor: pointer;\n",
              "      display: none;\n",
              "      fill: #1967D2;\n",
              "      height: 32px;\n",
              "      padding: 0 0 0 0;\n",
              "      width: 32px;\n",
              "    }\n",
              "\n",
              "    .colab-df-convert:hover {\n",
              "      background-color: #E2EBFA;\n",
              "      box-shadow: 0px 1px 2px rgba(60, 64, 67, 0.3), 0px 1px 3px 1px rgba(60, 64, 67, 0.15);\n",
              "      fill: #174EA6;\n",
              "    }\n",
              "\n",
              "    [theme=dark] .colab-df-convert {\n",
              "      background-color: #3B4455;\n",
              "      fill: #D2E3FC;\n",
              "    }\n",
              "\n",
              "    [theme=dark] .colab-df-convert:hover {\n",
              "      background-color: #434B5C;\n",
              "      box-shadow: 0px 1px 3px 1px rgba(0, 0, 0, 0.15);\n",
              "      filter: drop-shadow(0px 1px 2px rgba(0, 0, 0, 0.3));\n",
              "      fill: #FFFFFF;\n",
              "    }\n",
              "  </style>\n",
              "\n",
              "      <script>\n",
              "        const buttonEl =\n",
              "          document.querySelector('#df-a82462d1-cb18-4fc2-a182-e133410d7800 button.colab-df-convert');\n",
              "        buttonEl.style.display =\n",
              "          google.colab.kernel.accessAllowed ? 'block' : 'none';\n",
              "\n",
              "        async function convertToInteractive(key) {\n",
              "          const element = document.querySelector('#df-a82462d1-cb18-4fc2-a182-e133410d7800');\n",
              "          const dataTable =\n",
              "            await google.colab.kernel.invokeFunction('convertToInteractive',\n",
              "                                                     [key], {});\n",
              "          if (!dataTable) return;\n",
              "\n",
              "          const docLinkHtml = 'Like what you see? Visit the ' +\n",
              "            '<a target=\"_blank\" href=https://colab.research.google.com/notebooks/data_table.ipynb>data table notebook</a>'\n",
              "            + ' to learn more about interactive tables.';\n",
              "          element.innerHTML = '';\n",
              "          dataTable['output_type'] = 'display_data';\n",
              "          await google.colab.output.renderOutput(dataTable, element);\n",
              "          const docLink = document.createElement('div');\n",
              "          docLink.innerHTML = docLinkHtml;\n",
              "          element.appendChild(docLink);\n",
              "        }\n",
              "      </script>\n",
              "    </div>\n",
              "  </div>\n"
            ]
          },
          "metadata": {}
        }
      ]
    }
  ]
}