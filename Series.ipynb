{
  "nbformat": 4,
  "nbformat_minor": 0,
  "metadata": {
    "colab": {
      "provenance": [],
      "authorship_tag": "ABX9TyNyUKnv5OERDMAI3OefnXE0",
      "include_colab_link": true
    },
    "kernelspec": {
      "name": "python3",
      "display_name": "Python 3"
    },
    "language_info": {
      "name": "python"
    }
  },
  "cells": [
    {
      "cell_type": "markdown",
      "metadata": {
        "id": "view-in-github",
        "colab_type": "text"
      },
      "source": [
        "<a href=\"https://colab.research.google.com/github/danielduartt/Pandas-Python/blob/main/Series.ipynb\" target=\"_parent\"><img src=\"https://colab.research.google.com/assets/colab-badge.svg\" alt=\"Open In Colab\"/></a>"
      ]
    },
    {
      "cell_type": "code",
      "execution_count": 1,
      "metadata": {
        "id": "XwMTAZnFTgmt"
      },
      "outputs": [],
      "source": [
        "import numpy as np\n",
        "import pandas as pd"
      ]
    },
    {
      "cell_type": "markdown",
      "source": [
        "#**Series:**"
      ],
      "metadata": {
        "id": "FgGK3C9WTnmm"
      }
    },
    {
      "cell_type": "code",
      "source": [
        "steps = pd.Series([42153,5241,56974,12365])\n",
        "display(steps)"
      ],
      "metadata": {
        "colab": {
          "base_uri": "https://localhost:8080/",
          "height": 109
        },
        "id": "ASOcCPGETrpA",
        "outputId": "01a574bc-975f-4bce-b5f0-02092cebf70a"
      },
      "execution_count": 2,
      "outputs": [
        {
          "output_type": "display_data",
          "data": {
            "text/plain": [
              "0    42153\n",
              "1     5241\n",
              "2    56974\n",
              "3    12365\n",
              "dtype: int64"
            ]
          },
          "metadata": {}
        }
      ]
    },
    {
      "cell_type": "code",
      "source": [
        "type(steps)"
      ],
      "metadata": {
        "colab": {
          "base_uri": "https://localhost:8080/"
        },
        "id": "wYR91XuETymi",
        "outputId": "bc8ddc39-1b87-4d3b-cad1-9d14ec89c5e3"
      },
      "execution_count": 3,
      "outputs": [
        {
          "output_type": "execute_result",
          "data": {
            "text/plain": [
              "pandas.core.series.Series"
            ]
          },
          "metadata": {},
          "execution_count": 3
        }
      ]
    },
    {
      "cell_type": "code",
      "source": [
        "#Pegando valores da series\n",
        "print(steps.values) # retorna os valores\n",
        "print()\n",
        "print(steps.index) # retorna os indíces"
      ],
      "metadata": {
        "colab": {
          "base_uri": "https://localhost:8080/"
        },
        "id": "ZyV-vaLJT0og",
        "outputId": "f934ac98-fb85-464d-f3fb-050de7b04b07"
      },
      "execution_count": 6,
      "outputs": [
        {
          "output_type": "stream",
          "name": "stdout",
          "text": [
            "[42153  5241 56974 12365]\n",
            "\n",
            "RangeIndex(start=0, stop=4, step=1)\n"
          ]
        }
      ]
    },
    {
      "cell_type": "code",
      "source": [
        "#Criando uma Serie com indices escolhidos pelo programador\n",
        "steps = pd.Series(data = [42153,5241,56974,12365], index = ['seg','ter','quar','qui'])\n",
        "# criei uma serie ja indicando os indices\n",
        "display(steps)"
      ],
      "metadata": {
        "colab": {
          "base_uri": "https://localhost:8080/",
          "height": 109
        },
        "id": "QihO-7xjT6Uh",
        "outputId": "ecf9289e-6729-4340-af3b-ace0fcdabb9b"
      },
      "execution_count": 7,
      "outputs": [
        {
          "output_type": "display_data",
          "data": {
            "text/plain": [
              "seg     42153\n",
              "ter      5241\n",
              "quar    56974\n",
              "qui     12365\n",
              "dtype: int64"
            ]
          },
          "metadata": {}
        }
      ]
    },
    {
      "cell_type": "code",
      "source": [
        "#obs: o steps.values mostra que os valores são agrupados em um array\n",
        "#logo pode-se trabalhar com o numpy\n",
        "#Ex:\n",
        "n = steps.values\n",
        "print(type(n))\n",
        "print()\n",
        "print(f\"mínimo: {steps.min()}\")\n",
        "print(f\"máximo: {steps.max()}\")\n",
        "print(f\"média: {steps.mean()}\")\n",
        "print(\"por ai vai...\")\n",
        "print('~'*21)\n",
        "print(steps.shape)\n",
        "print('~'*21)\n",
        "print(steps.describe())"
      ],
      "metadata": {
        "colab": {
          "base_uri": "https://localhost:8080/"
        },
        "id": "wof9dhPGUcQ2",
        "outputId": "adcf9482-b429-45b4-bda8-746b03dd9e03"
      },
      "execution_count": 26,
      "outputs": [
        {
          "output_type": "stream",
          "name": "stdout",
          "text": [
            "<class 'numpy.ndarray'>\n",
            "\n",
            "mínimo: 5241\n",
            "máximo: 56974\n",
            "média: 29183.25\n",
            "por ai vai...\n",
            "~~~~~~~~~~~~~~~~~~~~~\n",
            "(4,)\n",
            "~~~~~~~~~~~~~~~~~~~~~\n",
            "count        4.000000\n",
            "mean     29183.250000\n",
            "std      24471.923155\n",
            "min       5241.000000\n",
            "25%      10584.000000\n",
            "50%      27259.000000\n",
            "75%      45858.250000\n",
            "max      56974.000000\n",
            "dtype: float64\n"
          ]
        }
      ]
    },
    {
      "cell_type": "markdown",
      "source": [
        "#**Indexação, Operações e Máscaras**"
      ],
      "metadata": {
        "id": "GFDrCGUmV-BS"
      }
    },
    {
      "cell_type": "code",
      "source": [
        "cursos = {\n",
        "    'Python': 10,\n",
        "    'JavaScript': 9,\n",
        "    'Matlab': 7\n",
        "}\n",
        "\n",
        "\n",
        "series = pd.Series(cursos) #Criando uma serie a partir de um dicionário\n",
        "print(series)"
      ],
      "metadata": {
        "colab": {
          "base_uri": "https://localhost:8080/"
        },
        "id": "N8Vnu4vZWCGr",
        "outputId": "5f849104-4e30-42e5-8703-c3218e712e39"
      },
      "execution_count": 28,
      "outputs": [
        {
          "output_type": "stream",
          "name": "stdout",
          "text": [
            "Python        10\n",
            "JavaScript     9\n",
            "Matlab         7\n",
            "dtype: int64\n"
          ]
        }
      ]
    },
    {
      "cell_type": "markdown",
      "source": [
        "##**Indexação:**"
      ],
      "metadata": {
        "id": "8rBw_AahYdC-"
      }
    },
    {
      "cell_type": "code",
      "source": [
        "letras = 'A B C D E F G H I J'\n",
        "series2 = pd.Series(np.random.randint(1, 5, 10), index = letras.split())\n",
        "print(series2)"
      ],
      "metadata": {
        "colab": {
          "base_uri": "https://localhost:8080/"
        },
        "id": "9YH4u-R5Yf0Q",
        "outputId": "9174237a-342b-427f-8ed1-89dde5e352be"
      },
      "execution_count": 42,
      "outputs": [
        {
          "output_type": "stream",
          "name": "stdout",
          "text": [
            "A    1\n",
            "B    4\n",
            "C    1\n",
            "D    1\n",
            "E    2\n",
            "F    4\n",
            "G    1\n",
            "H    4\n",
            "I    1\n",
            "J    2\n",
            "dtype: int64\n"
          ]
        }
      ]
    },
    {
      "cell_type": "code",
      "source": [
        "series2[0] #primeiro valor acessado pelo indíce numérico"
      ],
      "metadata": {
        "colab": {
          "base_uri": "https://localhost:8080/"
        },
        "id": "25bEOcyJZUxE",
        "outputId": "68913e34-83c3-4db1-b0a0-1f1ecf11e4f7"
      },
      "execution_count": 45,
      "outputs": [
        {
          "output_type": "execute_result",
          "data": {
            "text/plain": [
              "1"
            ]
          },
          "metadata": {},
          "execution_count": 45
        }
      ]
    },
    {
      "cell_type": "code",
      "source": [
        "series2['A'] #primeiro valor acessado pelo indíce criado manualmente"
      ],
      "metadata": {
        "colab": {
          "base_uri": "https://localhost:8080/"
        },
        "id": "wEgUHvtDaf8V",
        "outputId": "fba59d30-6db7-49fa-c09c-1d0c1f24ab0e"
      },
      "execution_count": 46,
      "outputs": [
        {
          "output_type": "execute_result",
          "data": {
            "text/plain": [
              "1"
            ]
          },
          "metadata": {},
          "execution_count": 46
        }
      ]
    },
    {
      "cell_type": "code",
      "source": [
        "series2['A': 'F']"
      ],
      "metadata": {
        "colab": {
          "base_uri": "https://localhost:8080/"
        },
        "id": "erQbci6ealbj",
        "outputId": "db102d4b-95e0-43ce-ab72-a780842a519a"
      },
      "execution_count": 48,
      "outputs": [
        {
          "output_type": "execute_result",
          "data": {
            "text/plain": [
              "A    1\n",
              "B    4\n",
              "C    1\n",
              "D    1\n",
              "E    2\n",
              "F    4\n",
              "dtype: int64"
            ]
          },
          "metadata": {},
          "execution_count": 48
        }
      ]
    },
    {
      "cell_type": "markdown",
      "source": [
        "##**Operações:**"
      ],
      "metadata": {
        "id": "S42nzowSa214"
      }
    },
    {
      "cell_type": "code",
      "source": [
        "s1 = pd.Series(data = np.random.randint(1, 100, 3), index = 'Facebook Instagram Youtube'.strip().split() )\n",
        "print(s1)"
      ],
      "metadata": {
        "colab": {
          "base_uri": "https://localhost:8080/"
        },
        "id": "HwUGh8Rea4ca",
        "outputId": "ea4dacd2-b216-4dd3-f719-d4965a28c8b7"
      },
      "execution_count": 50,
      "outputs": [
        {
          "output_type": "stream",
          "name": "stdout",
          "text": [
            "Facebook      2\n",
            "Instagram    60\n",
            "Youtube      83\n",
            "dtype: int64\n"
          ]
        }
      ]
    },
    {
      "cell_type": "code",
      "source": [
        "s2 = pd.Series(data = np.random.randint(1, 100, 4), index = 'Zoom Instagram Twitch Youtube'.strip().split())\n",
        "print(s2)"
      ],
      "metadata": {
        "colab": {
          "base_uri": "https://localhost:8080/"
        },
        "id": "GkAvJZo1bJUX",
        "outputId": "bb8c2463-9a57-4245-8ea8-3566d5bfd691"
      },
      "execution_count": 54,
      "outputs": [
        {
          "output_type": "stream",
          "name": "stdout",
          "text": [
            "Zoom         47\n",
            "Instagram    15\n",
            "Twitch       44\n",
            "Youtube      53\n",
            "dtype: int64\n"
          ]
        }
      ]
    },
    {
      "cell_type": "code",
      "source": [
        "\n",
        "print(s1 + s2) #junta as duas series, somando os valores de mesmo indice e adicionando os indices diferentes"
      ],
      "metadata": {
        "colab": {
          "base_uri": "https://localhost:8080/"
        },
        "id": "ZyuDi9wPbWUo",
        "outputId": "6b6fe64e-0a69-4814-9668-547d6cc75fbd"
      },
      "execution_count": 62,
      "outputs": [
        {
          "output_type": "stream",
          "name": "stdout",
          "text": [
            "Facebook       NaN\n",
            "Instagram     75.0\n",
            "Twitch         NaN\n",
            "Youtube      136.0\n",
            "Zoom           NaN\n",
            "dtype: float64\n"
          ]
        }
      ]
    },
    {
      "cell_type": "markdown",
      "source": [
        "##**Máscaras:**"
      ],
      "metadata": {
        "id": "d-kF03zdc44r"
      }
    },
    {
      "cell_type": "code",
      "source": [
        "series2"
      ],
      "metadata": {
        "colab": {
          "base_uri": "https://localhost:8080/"
        },
        "id": "8oiVlHUXc6zC",
        "outputId": "3c06c775-d492-4ffc-a6e0-f138bac3ba21"
      },
      "execution_count": 65,
      "outputs": [
        {
          "output_type": "execute_result",
          "data": {
            "text/plain": [
              "A    1\n",
              "B    4\n",
              "C    1\n",
              "D    1\n",
              "E    2\n",
              "F    4\n",
              "G    1\n",
              "H    4\n",
              "I    1\n",
              "J    2\n",
              "dtype: int64"
            ]
          },
          "metadata": {},
          "execution_count": 65
        }
      ]
    },
    {
      "cell_type": "code",
      "source": [
        "series2[series2 > 2]"
      ],
      "metadata": {
        "colab": {
          "base_uri": "https://localhost:8080/"
        },
        "id": "XmcdjgX4c9Uu",
        "outputId": "9eb9dddb-f41f-4c86-fd4c-33c1715763c2"
      },
      "execution_count": 69,
      "outputs": [
        {
          "output_type": "execute_result",
          "data": {
            "text/plain": [
              "B    4\n",
              "F    4\n",
              "H    4\n",
              "dtype: int64"
            ]
          },
          "metadata": {},
          "execution_count": 69
        }
      ]
    },
    {
      "cell_type": "code",
      "source": [
        "series2[series2 > 2].index #retorna só os indices"
      ],
      "metadata": {
        "colab": {
          "base_uri": "https://localhost:8080/"
        },
        "id": "GsoNha42dAiv",
        "outputId": "edd66369-b127-42c3-83b5-cbfba2e3faae"
      },
      "execution_count": 72,
      "outputs": [
        {
          "output_type": "execute_result",
          "data": {
            "text/plain": [
              "Index(['B', 'F', 'H'], dtype='object')"
            ]
          },
          "metadata": {},
          "execution_count": 72
        }
      ]
    }
  ]
}